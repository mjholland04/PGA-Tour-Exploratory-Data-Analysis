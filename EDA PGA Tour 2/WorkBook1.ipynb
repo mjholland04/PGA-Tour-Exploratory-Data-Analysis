{
 "cells": [
  {
   "cell_type": "markdown",
   "id": "b0b3f712",
   "metadata": {},
   "source": [
    "# Workbook 1\n",
    "\n",
    "WorkBook1.ipynb and WorkBook2.ipynb are the code files used for the analysis in in our report. These were worked on seperately but contain information aimed toward answering the same questions.\n",
    "\n",
    "The data used in this file is merged from the 27 datasets we used, into 4 PGA tour datasets covering each year 2022-2024. This code can be founded \n",
    "We also created PGA234csv, a main dataset with important variables merged from all 3 years. This file is \"Filtered Data.ipynb\" and is found in the Data Filtering folder. \n",
    "\n",
    "Code from WorkBook1 and WorkBook2 is used in both questions, the files were kept seperate to avoid issues with gliding variables."
   ]
  },
  {
   "cell_type": "code",
   "execution_count": null,
   "id": "564df539-d355-4ef0-a6ad-1764fb79d875",
   "metadata": {},
   "outputs": [
    {
     "ename": "",
     "evalue": "",
     "output_type": "error",
     "traceback": [
      "\u001b[1;31mRunning cells with '/opt/homebrew/bin/python3' requires the ipykernel package.\n",
      "\u001b[1;31mRun the following command to install 'ipykernel' into the Python environment. \n",
      "\u001b[1;31mCommand: '/opt/homebrew/bin/python3 -m pip install ipykernel -U --user --force-reinstall'"
     ]
    }
   ],
   "source": [
    "#Importing necessary libraries\n",
    "\n",
    "import numpy as np\n",
    "import pandas as pd\n",
    "import matplotlib.pyplot as plt\n",
    "import seaborn as sns\n",
    "    "
   ]
  },
  {
   "cell_type": "code",
   "execution_count": null,
   "id": "8b5b58ec-7db9-4f1a-8e7f-c6f851dc57f0",
   "metadata": {
    "tags": []
   },
   "outputs": [
    {
     "ename": "",
     "evalue": "",
     "output_type": "error",
     "traceback": [
      "\u001b[1;31mRunning cells with '/opt/homebrew/bin/python3' requires the ipykernel package.\n",
      "\u001b[1;31mRun the following command to install 'ipykernel' into the Python environment. \n",
      "\u001b[1;31mCommand: '/opt/homebrew/bin/python3 -m pip install ipykernel -U --user --force-reinstall'"
     ]
    }
   ],
   "source": [
    "#Read in the filtered Data\n",
    "PGA2022 = pd.read_csv('PGA2022.csv')\n",
    "PGA2023 = pd.read_csv('PGA2023.csv')\n",
    "PGA2024 = pd.read_csv('PGA2024.csv')\n",
    "PGA234 = pd.read_csv('PGA234.csv')\n",
    "\n",
    "print(PGA234.shape)"
   ]
  },
  {
   "cell_type": "code",
   "execution_count": null,
   "id": "72af3208-7eeb-4964-b438-f6a6b5127f45",
   "metadata": {},
   "outputs": [
    {
     "ename": "",
     "evalue": "",
     "output_type": "error",
     "traceback": [
      "\u001b[1;31mRunning cells with '/opt/homebrew/bin/python3' requires the ipykernel package.\n",
      "\u001b[1;31mRun the following command to install 'ipykernel' into the Python environment. \n",
      "\u001b[1;31mCommand: '/opt/homebrew/bin/python3 -m pip install ipykernel -U --user --force-reinstall'"
     ]
    }
   ],
   "source": [
    "#Create a plot showing the distribution of driving distance for 2022-2024\n",
    "\n",
    "plt.figure(figsize=(12, 6))\n",
    "\n",
    "sns.kdeplot(data=PGA2024, x=\"AVG_Driv\", label=\"2024\", linestyle='-', color='purple')\n",
    "sns.kdeplot(data=PGA2023, x=\"AVG_Driv\", label=\"2023\", linestyle='-', color='blue')\n",
    "sns.kdeplot(data=PGA2022, x=\"AVG_Driv\", label=\"2022\", linestyle='-', color='red')\n",
    "\n",
    "plt.title(\"PGA Driving Distances (2022-2024)\")\n",
    "plt.xlabel(\"Average Driving Distance (Yards)\")\n",
    "plt.ylabel(\"Density of Distances\")\n",
    "plt.legend()\n",
    "plt.show()\n",
    "\n",
    "print(\"2024 Mean Drive Length:\", PGA2024['AVG_Driv'].mean())\n",
    "print(\"2023 Mean Drive Length:\", PGA2023['AVG_Driv'].mean())\n",
    "print(\"2022 Mean Drive Length:\", PGA2022['AVG_Driv'].mean())\n"
   ]
  },
  {
   "cell_type": "code",
   "execution_count": null,
   "id": "f472c6c1-b679-4354-8b82-efff2837a088",
   "metadata": {},
   "outputs": [
    {
     "ename": "",
     "evalue": "",
     "output_type": "error",
     "traceback": [
      "\u001b[1;31mRunning cells with '/opt/homebrew/bin/python3' requires the ipykernel package.\n",
      "\u001b[1;31mRun the following command to install 'ipykernel' into the Python environment. \n",
      "\u001b[1;31mCommand: '/opt/homebrew/bin/python3 -m pip install ipykernel -U --user --force-reinstall'"
     ]
    }
   ],
   "source": [
    "# Create a plot showing the shots gained on approach shots from 2022-2024\n",
    "\n",
    "plt.figure(figsize=(12, 6))\n",
    "\n",
    "sns.kdeplot(data=PGA2024, x=\"AVG_SGAppr\", label=\"2024\", linestyle='-', color='purple')\n",
    "sns.kdeplot(data=PGA2023, x=\"AVG_SGAppr\", label=\"2023\", linestyle='-', color='blue')\n",
    "sns.kdeplot(data=PGA2022, x=\"AVG_SGAppr\", label=\"2022\", linestyle='-', color='red')\n",
    "\n",
    "plt.title(\"PGA Average Shots Gained Approaching\")\n",
    "plt.xlabel(\"Average Shots Gained\")\n",
    "plt.ylabel(\"Density of Shots Gained\")\n",
    "plt.legend()\n",
    "plt.show()\n",
    "\n",
    "#Print mean SG: Approach for each year 2022-2024\n",
    "\n",
    "print(\"2024 Mean Approaching SG:\", PGA2024['AVG_SGAppr'].mean())\n",
    "print(\"2023 Mean Approaching SG:\", PGA2023['AVG_SGAppr'].mean())\n",
    "print(\"2022 Mean Approaching SG:\", PGA2022['AVG_SGAppr'].mean())\n"
   ]
  },
  {
   "cell_type": "code",
   "execution_count": null,
   "id": "a3d2f698-a062-4393-b847-f07a40d99d8a",
   "metadata": {},
   "outputs": [
    {
     "ename": "",
     "evalue": "",
     "output_type": "error",
     "traceback": [
      "\u001b[1;31mRunning cells with '/opt/homebrew/bin/python3' requires the ipykernel package.\n",
      "\u001b[1;31mRun the following command to install 'ipykernel' into the Python environment. \n",
      "\u001b[1;31mCommand: '/opt/homebrew/bin/python3 -m pip install ipykernel -U --user --force-reinstall'"
     ]
    }
   ],
   "source": [
    "# Create a plot showing the average shots gained driving 2022-2024\n",
    "\n",
    "plt.figure(figsize=(12, 6))\n",
    "\n",
    "sns.kdeplot(data=PGA2024, x=\"AVG_SG_Driv\", label=\"2024\", linestyle='-', color='purple')\n",
    "sns.kdeplot(data=PGA2023, x=\"AVG_SG_Driv\", label=\"2023\", linestyle='-', color='blue')\n",
    "sns.kdeplot(data=PGA2022, x=\"AVG_SG_Driv\", label=\"2022\", linestyle='-', color='red')\n",
    "\n",
    "plt.title(\"PGA Average Shots Gained Driving\")\n",
    "plt.xlabel(\"Average Shots Gained\")\n",
    "plt.ylabel(\"Density of Shots Gained\")\n",
    "plt.legend()\n",
    "plt.show()\n",
    "\n",
    "# Print mean driving distance for each year 2022-2024\n",
    "\n",
    "print(\"2024 Mean Driving SG:\", PGA2024['AVG_SG_Driv'].mean())\n",
    "print(\"2023 Mean Driving SG:\", PGA2023['AVG_SG_Driv'].mean())\n",
    "print(\"2022 Mean Driving SG:\", PGA2022['AVG_SG_Driv'].mean())"
   ]
  },
  {
   "cell_type": "code",
   "execution_count": null,
   "id": "7bf61515-b5fd-4d4f-a598-80c2e53826df",
   "metadata": {},
   "outputs": [
    {
     "ename": "",
     "evalue": "",
     "output_type": "error",
     "traceback": [
      "\u001b[1;31mRunning cells with '/opt/homebrew/bin/python3' requires the ipykernel package.\n",
      "\u001b[1;31mRun the following command to install 'ipykernel' into the Python environment. \n",
      "\u001b[1;31mCommand: '/opt/homebrew/bin/python3 -m pip install ipykernel -U --user --force-reinstall'"
     ]
    }
   ],
   "source": [
    "# Create a graph showing the shots gained from putting 2022-2024\n",
    "\n",
    "\n",
    "\n",
    "plt.figure(figsize=(12, 6))\n",
    "\n",
    "sns.kdeplot(data=PGA2024, x=\"AVG_PUT\", label=\"2024\", linestyle='-', color='purple')\n",
    "sns.kdeplot(data=PGA2023, x=\"AVG_PUT\", label=\"2023\", linestyle='-', color='blue')\n",
    "sns.kdeplot(data=PGA2022, x=\"AVG_PUT\", label=\"2022\", linestyle='-', color='red')\n",
    "\n",
    "plt.title(\"PGA Average Shots Gained Putting\")\n",
    "plt.xlabel(\"Average Shots Gained\")\n",
    "plt.ylabel(\"Density of Shots Gained\")\n",
    "plt.legend()\n",
    "plt.show()\n",
    "\n",
    "# Print average shots gained putting from the years 2022-2024\n",
    "\n",
    "print(\"2024 Mean Putting SG:\", PGA2024['AVG_PUT'].mean())\n",
    "print(\"2023 Mean Putting SG:\", PGA2023['AVG_PUT'].mean())\n",
    "print(\"2022 Mean Putting SG:\", PGA2022['AVG_PUT'].mean())\n"
   ]
  },
  {
   "cell_type": "code",
   "execution_count": null,
   "id": "0554d4c5-018c-4db7-8c1b-a54e045972bf",
   "metadata": {},
   "outputs": [
    {
     "ename": "",
     "evalue": "",
     "output_type": "error",
     "traceback": [
      "\u001b[1;31mRunning cells with '/opt/homebrew/bin/python3' requires the ipykernel package.\n",
      "\u001b[1;31mRun the following command to install 'ipykernel' into the Python environment. \n",
      "\u001b[1;31mCommand: '/opt/homebrew/bin/python3 -m pip install ipykernel -U --user --force-reinstall'"
     ]
    }
   ],
   "source": [
    "# Create a figure with 9 subplots for 3 rows and 3 columns showing correlations:\n",
    "fig, axs = plt.subplots(3, 3, figsize=(20, 20))\n",
    "\n",
    "# 2022 Shots Gained Driving vs Average Score\n",
    "correlation22 = round(PGA234['TOTAL SG:T2G_22'].corr(PGA234['Avg Score_22']),3)\n",
    "\n",
    "sns.regplot(data=PGA234, x='TOTAL SG:T2G_22', y='Avg Score_22', ax=axs[0, 0], color= 'black')\n",
    "sns.scatterplot(data=PGA234, x='TOTAL SG:T2G_22', y='Avg Score_22', ax=axs[0, 0])\n",
    "\n",
    "axs[0, 0].set_title(f\"2022 Shots Gained Driving vs Average Score (Corr = {correlation22})\")\n",
    "axs[0, 0].set_xlabel(\"Total Shots Gained Driving 2022\")\n",
    "axs[0, 0].set_ylabel(\"Average Score 2022\")\n",
    "\n",
    "# 2022 Shots Gained Approach vs Average Score\n",
    "correlation22app = round(PGA234['TOTAL SG:APP_22'].corr(PGA234['Avg Score_22']),3)\n",
    "sns.regplot(data=PGA234, x='TOTAL SG:APP_22', y='Avg Score_22', ax=axs[0, 1], color='red')\n",
    "sns.scatterplot(data=PGA234, x='TOTAL SG:APP_22', y='Avg Score_22', ax=axs[0, 1])\n",
    "\n",
    "axs[0, 1].set_title(f\"2022 Shots Gained Approaching vs Average Score (Corr = {correlation22app})\")\n",
    "axs[0, 1].set_xlabel(\"Total Shots Gained Approaching 2022\")\n",
    "axs[0, 1].set_ylabel(\"Average Score 2022\")\n",
    "\n",
    "\n",
    "# 2022 Shots Gained Putting vs Average Score\n",
    "correlation22putt = round(PGA234['TOTAL SG:P_22'].corr(PGA234['Avg Score_22']),3)\n",
    "sns.regplot(data=PGA234, x='TOTAL SG:P_22', y='Avg Score_22', ax=axs[0, 2], color='green')\n",
    "sns.scatterplot(data=PGA234, x='TOTAL SG:P_22', y='Avg Score_22', ax=axs[0, 2])\n",
    "\n",
    "axs[0, 2].set_title(f\"2022 Shots Gained Putting vs Average Score (Corr = {correlation22putt})\")\n",
    "axs[0, 2].set_xlabel(\"Total Shots Gained Putting 2022\")\n",
    "axs[0, 2].set_ylabel(\"Average Score 2022\")\n",
    "\n",
    "\n",
    "# 2023 Shots Gained Driving vs Average Score\n",
    "correlation23 = round(PGA234['TOTAL SG:T2G_23'].corr(PGA234['Avg Score_23']),3)\n",
    "sns.regplot(data=PGA234, x='TOTAL SG:T2G_23', y='Avg Score_23', ax=axs[1, 0], color='black')\n",
    "sns.scatterplot(data=PGA234, x='TOTAL SG:T2G_23', y='Avg Score_23', ax=axs[1, 0])\n",
    "\n",
    "axs[1, 0].set_title(f\"2023 Shots Gained Driving vs Average Score (Corr = {correlation23})\")\n",
    "axs[1, 0].set_xlabel(\"Total Shots Gained Driving 2023\")\n",
    "axs[1, 0].set_ylabel(\"Average Score 2023\")\n",
    "\n",
    "# 2023 Shots Gained Approach vs Average Score\n",
    "correlation23app = round(PGA234['TOTAL SG:APP_23'].corr(PGA234['Avg Score_23']),3)\n",
    "sns.regplot(data=PGA234, x='TOTAL SG:APP_23', y='Avg Score_23', ax=axs[1, 1], color='red')\n",
    "sns.scatterplot(data=PGA234, x='TOTAL SG:APP_23', y='Avg Score_23', ax=axs[1, 1])\n",
    "\n",
    "axs[1, 1].set_title(f\"2023 Shots Gained Approaching vs Average Score (Corr = {correlation23app})\")\n",
    "axs[1, 1].set_xlabel(\"Total Shots Gained Approaching 2023\")\n",
    "axs[1, 1].set_ylabel(\"Average Score 2023\")\n",
    "\n",
    "\n",
    "# 2023 Shots Gained Putting vs Average Score\n",
    "correlation23putt = round(PGA234['TOTAL SG:P_23'].corr(PGA234['Avg Score_23']),3)\n",
    "sns.regplot(data=PGA234, x='TOTAL SG:P_23', y='Avg Score_23', ax=axs[1, 2], color='green')\n",
    "sns.scatterplot(data=PGA234, x='TOTAL SG:P_23', y='Avg Score_23', ax=axs[1, 2])\n",
    "\n",
    "axs[1, 2].set_title(f\"2023 Shots Gained Putting vs Average Score (Corr = {correlation23putt})\")\n",
    "axs[1, 2].set_xlabel(\"Total Shots Gained Putting 2023\")\n",
    "axs[1, 2].set_ylabel(\"Average Score 2023\")\n",
    "\n",
    "\n",
    "# 2024 Shots Gained Driving vs Average Score\n",
    "correlation24 = round(PGA234['TOTAL SG:T2G'].corr(PGA234['Avg Score']),3)\n",
    "sns.regplot(data=PGA234, x='TOTAL SG:T2G', y='Avg Score', ax=axs[2, 0], color='black')\n",
    "sns.scatterplot(data=PGA234, x='TOTAL SG:T2G', y='Avg Score', ax=axs[2, 0])\n",
    "\n",
    "axs[2, 0].set_title(f\"2024 Shots Gained Driving vs Average Score (Corr = {correlation24})\")\n",
    "axs[2, 0].set_xlabel(\"Total Shots Gained Driving 2024\")\n",
    "axs[2, 0].set_ylabel(\"Average Score 2024\")\n",
    "\n",
    "# 2024 Shots Gained Putting vs Average Score\n",
    "correlation24app = round(PGA234['TOTAL SG:APP'].corr(PGA234['Avg Score']),3)\n",
    "sns.regplot(data=PGA234, x='TOTAL SG:APP', y='Avg Score', ax=axs[2, 1], color='red')\n",
    "sns.scatterplot(data=PGA234, x='TOTAL SG:APP', y='Avg Score', ax=axs[2, 1])\n",
    "\n",
    "axs[2, 1].set_title(f\"2024 Shots Gained Approaching vs Average Score (Corr = {correlation24app})\")\n",
    "axs[2, 1].set_xlabel(\"Total Shots Gained Approaching 2024\")\n",
    "axs[2, 1].set_ylabel(\"Average Score 2024\")\n",
    "\n",
    "\n",
    "# 2024 Shots Gained Putting vs Average Score\n",
    "correlation24putt = round(PGA234['TOTAL SG:P'].corr(PGA234['Avg Score']),3)\n",
    "sns.regplot(data=PGA234, x='TOTAL SG:P', y='Avg Score', ax=axs[2, 2], color='green')\n",
    "sns.scatterplot(data=PGA234, x='TOTAL SG:P', y='Avg Score', ax=axs[2, 2])\n",
    "\n",
    "axs[2, 2].set_title(f\"2024 Shots Gained Putting vs Average Score (Corr = {correlation24putt})\")\n",
    "axs[2, 2].set_xlabel(\"Total Shots Gained Putting 2024\")\n",
    "axs[2, 2].set_ylabel(\"Average Score 2024\")\n",
    "\n",
    "\n",
    "# Adjust layout to prevent overlap\n",
    "plt.tight_layout()\n",
    "plt.show()\n",
    "\n"
   ]
  },
  {
   "cell_type": "code",
   "execution_count": null,
   "id": "5879c11b-fe50-42b8-ab04-9d62b6aed797",
   "metadata": {},
   "outputs": [
    {
     "ename": "",
     "evalue": "",
     "output_type": "error",
     "traceback": [
      "\u001b[1;31mRunning cells with '/opt/homebrew/bin/python3' requires the ipykernel package.\n",
      "\u001b[1;31mRun the following command to install 'ipykernel' into the Python environment. \n",
      "\u001b[1;31mCommand: '/opt/homebrew/bin/python3 -m pip install ipykernel -U --user --force-reinstall'"
     ]
    }
   ],
   "source": [
    "# Get top 10 drivers and their ranks from 2022\n",
    "bestdrivers22 = PGA2022.sort_values(by='TOTAL SG:T2G', ascending=False)[['PLAYER', 'AVG_Driv', 'RANK']].head(10)\n",
    "meandrivrank22 = PGA2022.sort_values(by='TOTAL SG:T2G', ascending=False)['RANK'].head(10).mean()\n",
    "\n",
    "# Get top 10 approachers and their ranks from 2022\n",
    "bestapp22 = PGA2022.sort_values(by='TOTAL SG:APP', ascending=False)[['PLAYER', 'AVG_SGAppr', 'RANK']].head(10)\n",
    "meanapprank22 = PGA2022.sort_values(by='TOTAL SG:APP', ascending=False)['RANK'].head(10).mean()\n",
    "\n",
    "\n",
    "# Get top 10 putters and their ranks from 2022\n",
    "bestputters22 = PGA2022.sort_values(by='TOTAL SG:P', ascending=False)[['PLAYER', 'AVG_PUT', 'RANK']].head(10)\n",
    "meanputtrank22 = PGA2022.sort_values(by='TOTAL SG:P', ascending=False)['RANK'].head(10).mean()\n",
    "\n",
    "\n",
    "# Concatenate drivers, putters, and approachers\n",
    "merged_22 = pd.concat([bestdrivers22.reset_index(drop=True), bestputters22.reset_index(drop=True)], axis=1)\n",
    "merged_22 = pd.concat([merged_22, bestapp22.reset_index(drop=True)],axis=1)\n",
    "# Drop NaN rows to clean up the output\n",
    "merged_22 = merged_22.dropna()\n",
    "\n",
    "# Print the results for 2022\n",
    "print(\"Top 10 drivers, approachers, and putters in 2022: \")\n",
    "print(merged_22.to_string(index=False))\n",
    "print(\"\")\n",
    "\n",
    "print(f\"Average top driver rank: {meandrivrank22}\")\n",
    "print(f\"Average top approacher rank: {meanapprank22}\")\n",
    "print(f\"Average top putter rank: {meanputtrank22}\")\n",
    "\n",
    "print(\"\")\n",
    "\n",
    "\n",
    "#Repeating above process for 2023 drivers, approachers, and putters\n",
    "\n",
    "# Top 10 drivers and their ranks for 2023\n",
    "bestdrivers23 = PGA2023.sort_values(by='TOTAL SG:T2G', ascending=False)[['PLAYER', 'AVG_Driv', 'RANK']].head(10)\n",
    "meandrivrank23 = PGA2022.sort_values(by='TOTAL SG:T2G', ascending=False)['RANK'].head(10).mean()\n",
    "\n",
    "# Top approachers and their ranks for 2023\n",
    "bestapp23 = PGA2023.sort_values(by='TOTAL SG:APP', ascending=False)[['PLAYER', 'AVG_SGAppr', 'RANK']].head(10)\n",
    "meanapprank23 = PGA2023.sort_values(by='TOTAL SG:APP', ascending=False)['RANK'].head(10).mean()\n",
    "\n",
    "# Top 10 putters and their ranks for 2023\n",
    "bestputters23 = PGA2023.sort_values(by='TOTAL SG:P', ascending=False)[['PLAYER', 'AVG_PUT', 'RANK']].head(10)\n",
    "meanputtrank23 = PGA2023.sort_values(by='TOTAL SG:P', ascending=False)['RANK'].head(10).mean()\n",
    "\n",
    "# Top 10 putters and their ranks for 2023\n",
    "bestputters23 = PGA2023.sort_values(by='TOTAL SG:P', ascending=False)[['PLAYER', 'AVG_PUT', 'RANK']].head(10)\n",
    "meanputtrank23 = PGA2023.sort_values(by='TOTAL SG:P', ascending=False)['RANK'].head(10).mean()\n",
    "\n",
    "# Concatenate 2023 leaders in drivers, approachers, and putters\n",
    "merged_23 = pd.concat([bestdrivers23.reset_index(drop=True), bestputters22.reset_index(drop=True)], axis=1)\n",
    "merged_23 = pd.concat([merged_23, bestapp23.reset_index(drop=True)],axis=1)\n",
    "\n",
    "# Drop NaN rows to clean up the output\n",
    "merged_23 = merged_23.dropna()\n",
    "\n",
    "# Print the results for 2023\n",
    "print(\"Top 10 drivers, approachers, and putters in 2023: \")\n",
    "print(merged_23.to_string(index=False))\n",
    "print(\"\")\n",
    "print(f\"Average top driver rank: {meandrivrank23}\")\n",
    "print(f\"Average top approacher rank: {meanapprank23}\")\n",
    "print(f\"Average top putter rank: {meanputtrank23}\")\n",
    "print(\"\")\n",
    "\n",
    "#Repeat above process for driving, approaching, and putting leaders in 2024\n",
    "# Top drivers and their ranks for 2024\n",
    "bestdrivers24 = PGA2024.sort_values(by='TOTAL SG:T2G', ascending=False)[['PLAYER', 'AVG_Driv', 'RANK']].head(10)\n",
    "meandrivrank24 = PGA2024.sort_values(by='TOTAL SG:T2G', ascending=False)['RANK'].head(10).mean()\n",
    "\n",
    "# Top approachers and their ranks for 2024\n",
    "bestapp24 = PGA2024.sort_values(by='TOTAL SG:APP', ascending=False)[['PLAYER', 'AVG_SGAppr', 'RANK']].head(10)\n",
    "meanapprank24 = PGA2024.sort_values(by='TOTAL SG:APP', ascending=False)['RANK'].head(10).mean()\n",
    "\n",
    "# Top putters and their ranks for 2024\n",
    "bestputters24 = PGA2024.sort_values(by='TOTAL SG:P', ascending=False)[['PLAYER', 'AVG_PUT', 'RANK']].head(10)\n",
    "meanputtrank24 = PGA2024.sort_values(by='TOTAL SG:P', ascending=False)['RANK'].head(10).mean()\n",
    "\n",
    "# Concatenate 2024 top drivers, approachers, and putters \n",
    "merged_24 = pd.concat([bestdrivers24.reset_index(drop=True), bestputters22.reset_index(drop=True)], axis=1)\n",
    "merged_24 = pd.concat([merged_24, bestapp24.reset_index(drop=True)],axis=1)\n",
    "\n",
    "# Drop NaN rows to clean up the output\n",
    "merged_24 = merged_24.dropna()\n",
    "\n",
    "# Print the results for 2022\n",
    "print(\"Top 10 drivers, approachers, and putters in 2024: \")\n",
    "print(merged_24.to_string(index=False))\n",
    "print(\"\")\n",
    "print(f\"Average top driver rank: {meandrivrank24}\")\n",
    "print()\n",
    "print(f\"Average top driver rank: {meanapprank24}\")\n",
    "print()\n",
    "print(f\"Average top putter rank: {meanputtrank24}\")\n",
    "print(\"\")\n",
    "\n",
    "\n",
    "#calculate the average rank for each shot type from 2022-2024\n",
    "averageDRank = (meandrivrank22 + meandrivrank23 + meandrivrank24) / 3\n",
    "averageARank = (meanapprank22 + meanapprank23 + meanapprank24 ) / 3\n",
    "averagePRank = (meanputtrank22 + meanputtrank23 + meanputtrank24) / 3\n",
    "\n",
    "print(f\"Average rank of top 10 drivers over the last 3 years: {averageDRank}\")\n",
    "print(f\"Average rank of top 10 approachers over the last 3 years: {averageARank}\")\n",
    "print(f\"Average rank of top 10 putters over the last 3 years: {averagePRank}\")\n",
    "\n",
    "#This information is for testing and helped us develop graphs moving forward."
   ]
  },
  {
   "cell_type": "code",
   "execution_count": null,
   "id": "1adb4b06-ef81-4ac9-aa47-798276118777",
   "metadata": {},
   "outputs": [
    {
     "ename": "",
     "evalue": "",
     "output_type": "error",
     "traceback": [
      "\u001b[1;31mRunning cells with '/opt/homebrew/bin/python3' requires the ipykernel package.\n",
      "\u001b[1;31mRun the following command to install 'ipykernel' into the Python environment. \n",
      "\u001b[1;31mCommand: '/opt/homebrew/bin/python3 -m pip install ipykernel -U --user --force-reinstall'"
     ]
    }
   ],
   "source": [
    "#Create a bar plot to show the average ranks for the top 10 drivers, approachers, and putters\n",
    "\n",
    "\n",
    "#create new data frame to do this easily\n",
    "theYears = ['2022', '2023', '2024']\n",
    "avg_driver_ranks = [meandrivrank22, meandrivrank23, meandrivrank24]\n",
    "avg_putter_ranks = [meanputtrank22, meanputtrank23, meanputtrank24]\n",
    "avg_approacher_ranks = [meanapprank22, meanapprank23, meanapprank24]\n",
    "\n",
    "drivPuttAppData = {\n",
    "    'Year': theYears,\n",
    "    'Average Top Driver Rank (by SG)': avg_driver_ranks,\n",
    "    'Average Top Putter Rank (by SG)': avg_putter_ranks,\n",
    "    'Average Top Approacher Rank (by SG)': avg_approacher_ranks,\n",
    "}\n",
    "\n",
    "DnPdf = pd.DataFrame(drivPuttAppData)\n",
    "\n",
    "# Melt the DataFrame for easier plotting\n",
    "DnPdf_melted = DnPdf.melt(id_vars='Year', var_name='Type', value_name='Rank')\n",
    "\n",
    "plt.figure(figsize=(10, 6))\n",
    "sns.barplot(x='Year', y='Rank', hue='Type', data=DnPdf_melted)\n",
    "plt.title('PGA Average Driver, Approacher, and Putter Rank in Each Year')\n",
    "plt.ylabel('Rank (Lower is Better!)')\n",
    "plt.xlabel('Year')\n",
    "plt.show()\n"
   ]
  },
  {
   "cell_type": "code",
   "execution_count": null,
   "id": "7165bd37-2c58-4ab7-9159-42fb2feaf687",
   "metadata": {},
   "outputs": [
    {
     "ename": "",
     "evalue": "",
     "output_type": "error",
     "traceback": [
      "\u001b[1;31mRunning cells with '/opt/homebrew/bin/python3' requires the ipykernel package.\n",
      "\u001b[1;31mRun the following command to install 'ipykernel' into the Python environment. \n",
      "\u001b[1;31mCommand: '/opt/homebrew/bin/python3 -m pip install ipykernel -U --user --force-reinstall'"
     ]
    }
   ],
   "source": [
    "#plot the trends in rank for different the top players in different shot types over the last 3 years\n",
    "\n",
    "plt.figure(figsize=(10, 6))\n",
    "sns.lineplot(data=DnPdf_melted, x='Year', y='Rank', hue='Type',marker='o')\n",
    "plt.title('PGA Top Driver Approacher and Putter Ranks')\n",
    "plt.ylabel('Average Rank (Lower is better!)')\n",
    "\n",
    "plt.xlabel('Year')\n",
    "plt.show()\n"
   ]
  },
  {
   "cell_type": "code",
   "execution_count": null,
   "id": "7ad148ef-ddc8-40a9-aead-5bc40365fd6b",
   "metadata": {},
   "outputs": [
    {
     "ename": "",
     "evalue": "",
     "output_type": "error",
     "traceback": [
      "\u001b[1;31mRunning cells with '/opt/homebrew/bin/python3' requires the ipykernel package.\n",
      "\u001b[1;31mRun the following command to install 'ipykernel' into the Python environment. \n",
      "\u001b[1;31mCommand: '/opt/homebrew/bin/python3 -m pip install ipykernel -U --user --force-reinstall'"
     ]
    }
   ],
   "source": [
    "# Get the top 15 furthest drivers and the top 15 most accurate drivers for each year based on Average driving distance and the percentage of fairways hit.\n",
    "furthestDrivers24 = PGA2024.nlargest(15, 'AVG_Driv')\n",
    "mostAccurateDrivers24 = PGA2024.nlargest(15, '%_Driv_Acc')\n",
    "\n",
    "furthestDrivers23 = PGA2023.nlargest(15, 'AVG_Driv')\n",
    "mostAccurateDrivers23 = PGA2023.nlargest(15, '%_Driv_Acc')\n",
    "\n",
    "furthestDrivers22 = PGA2022.nlargest(15, 'AVG_Driv')\n",
    "mostAccurateDrivers22 = PGA2022.nlargest(15, '%_Driv_Acc')\n",
    "\n",
    "#Create a column with the player classification (distance/accuracy) and year in the datasets created above.\n",
    "furthestDrivers24['Type'] = 'Furthest'\n",
    "mostAccurateDrivers24['Type'] = 'Most Accurate'\n",
    "furthestDrivers24['Year'] = 2024\n",
    "mostAccurateDrivers24['Year'] = 2024\n",
    "\n",
    "furthestDrivers23['Type'] = 'Furthest'\n",
    "mostAccurateDrivers23['Type'] = 'Most Accurate'\n",
    "furthestDrivers23['Year'] = 2023\n",
    "mostAccurateDrivers23['Year'] = 2023\n",
    "\n",
    "furthestDrivers22['Type'] = 'Furthest'\n",
    "mostAccurateDrivers22['Type'] = 'Most Accurate'\n",
    "furthestDrivers22['Year'] = 2022\n",
    "mostAccurateDrivers22['Year'] = 2022\n",
    "\n",
    "#cancat the previous datasets together\n",
    "mergeEm = pd.concat([furthestDrivers24, mostAccurateDrivers24, \n",
    "                     furthestDrivers23, mostAccurateDrivers23,\n",
    "                     furthestDrivers22, mostAccurateDrivers22])\n",
    "\n",
    "\n",
    "#Create a scatterplot to show the information on accurate golfers vs. Distance drivers.\n",
    "plt.figure(figsize=(10,6))\n",
    "sns.scatterplot(data=mergeEm, x='AVG_Driv', y='RANK', hue='Type', s=100)\n",
    "\n",
    "plt.title('Comparing Top Distance Drivers and Top Accurate Drivers to Rank')\n",
    "plt.xlabel('Driving Distance (Yards)')\n",
    "plt.ylabel('Rank')\n",
    "plt.show()"
   ]
  },
  {
   "cell_type": "code",
   "execution_count": null,
   "id": "11c38c97-3e5b-4c41-98a9-f0169630d6b1",
   "metadata": {},
   "outputs": [
    {
     "ename": "",
     "evalue": "",
     "output_type": "error",
     "traceback": [
      "\u001b[1;31mRunning cells with '/opt/homebrew/bin/python3' requires the ipykernel package.\n",
      "\u001b[1;31mRun the following command to install 'ipykernel' into the Python environment. \n",
      "\u001b[1;31mCommand: '/opt/homebrew/bin/python3 -m pip install ipykernel -U --user --force-reinstall'"
     ]
    }
   ],
   "source": [
    "# Get the top 15 furthest drivers and most accurate drivers for each year\n",
    "furthestDrivers24 = PGA2024.nlargest(15, 'AVG_Driv')\n",
    "mostAccurateDrivers24 = PGA2024.nlargest(15, '%_Driv_Acc')\n",
    "\n",
    "furthestDrivers23 = PGA2023.nlargest(15, 'AVG_Driv')\n",
    "mostAccurateDrivers23 = PGA2023.nlargest(15, '%_Driv_Acc')\n",
    "\n",
    "furthestDrivers22 = PGA2022.nlargest(15, 'AVG_Driv')\n",
    "mostAccurateDrivers22 = PGA2022.nlargest(15, '%_Driv_Acc')\n",
    "\n",
    "##Create a column with the player classification (distance/accuracy) and year in the datasets created above.\n",
    "furthestDrivers24['Type'] = 'Furthest'\n",
    "mostAccurateDrivers24['Type'] = 'Most Accurate'\n",
    "furthestDrivers24['Year'] = 2024\n",
    "mostAccurateDrivers24['Year'] = 2024\n",
    "\n",
    "furthestDrivers23['Type'] = 'Furthest'\n",
    "mostAccurateDrivers23['Type'] = 'Most Accurate'\n",
    "furthestDrivers23['Year'] = 2023\n",
    "mostAccurateDrivers23['Year'] = 2023\n",
    "\n",
    "furthestDrivers22['Type'] = 'Furthest'\n",
    "mostAccurateDrivers22['Type'] = 'Most Accurate'\n",
    "furthestDrivers22['Year'] = 2022\n",
    "mostAccurateDrivers22['Year'] = 2022\n",
    "\n",
    "#cancat the datasets together\n",
    "mergeEm = pd.concat([furthestDrivers24, mostAccurateDrivers24, \n",
    "                     furthestDrivers23, mostAccurateDrivers23,\n",
    "                     furthestDrivers22, mostAccurateDrivers22])\n",
    "\n",
    "\n",
    "#Create a scatter plot to show the information gathered above\n",
    "plt.figure(figsize=(10,6))\n",
    "sns.scatterplot(data=mergeEm, x='AVG_Driv', y='Avg Score', hue='Type', s=100)\n",
    "\n",
    "plt.title('Comparing Top Distance Drivers and Top Accurate Drivers to Average Score')\n",
    "plt.xlabel('Driving Distance (Yards)')\n",
    "plt.ylabel('Average Score')\n",
    "plt.show()"
   ]
  },
  {
   "cell_type": "code",
   "execution_count": null,
   "id": "aa4638af-683a-4fa0-85a0-75fc827d00db",
   "metadata": {},
   "outputs": [
    {
     "ename": "",
     "evalue": "",
     "output_type": "error",
     "traceback": [
      "\u001b[1;31mRunning cells with '/opt/homebrew/bin/python3' requires the ipykernel package.\n",
      "\u001b[1;31mRun the following command to install 'ipykernel' into the Python environment. \n",
      "\u001b[1;31mCommand: '/opt/homebrew/bin/python3 -m pip install ipykernel -U --user --force-reinstall'"
     ]
    }
   ],
   "source": [
    "#Create a plot that shows the overall player accuracy vs their average score for all golfers in the PGA over different years (2022-2024)\n",
    "\n",
    "plt.figure(figsize=(10,6))\n",
    "\n",
    "sns.scatterplot(data=PGA2024, x='Overall_Acc', y='Avg Score', color='blue', label='2024')\n",
    "sns.scatterplot(data=PGA2023, x='Overall_Acc', y='Avg Score', color='purple', label='2023')\n",
    "sns.scatterplot(data=PGA2022, x='Overall_Acc', y='Avg Score', color='red', label='2022')\n",
    "\n",
    "\n",
    "plt.title('Overall Accuracy vs Average Score')\n",
    "plt.legend(title='Year')\n",
    "plt.xlabel('Overall Accuracy')\n",
    "plt.show()\n",
    "\n",
    "thecorr24 = PGA2024['Overall_Acc'].corr(PGA2024['Avg Score'])\n",
    "thecorr23 = PGA2023['Overall_Acc'].corr(PGA2023['Avg Score'])\n",
    "thecorr22 = PGA2022['Overall_Acc'].corr(PGA2022['Avg Score'])\n",
    "\n",
    "mainCorr = (thecorr24 + thecorr23 + thecorr22) / 3\n",
    "print(mainCorr)"
   ]
  },
  {
   "cell_type": "code",
   "execution_count": null,
   "id": "174c6eeb-22f4-4e7d-b47c-e22ed463cb4b",
   "metadata": {},
   "outputs": [
    {
     "ename": "",
     "evalue": "",
     "output_type": "error",
     "traceback": [
      "\u001b[1;31mRunning cells with '/opt/homebrew/bin/python3' requires the ipykernel package.\n",
      "\u001b[1;31mRun the following command to install 'ipykernel' into the Python environment. \n",
      "\u001b[1;31mCommand: '/opt/homebrew/bin/python3 -m pip install ipykernel -U --user --force-reinstall'"
     ]
    }
   ],
   "source": [
    "#Create a plot that shows the player driving accuracy vs their average score for all golfers in the PGA over different years (2022-2024)\n",
    "\n",
    "\n",
    "plt.figure(figsize=(10,6))\n",
    "\n",
    "sns.scatterplot(data=PGA2024, x='%_Driv_Acc', y='Avg Score', color='blue', label='2024')\n",
    "sns.scatterplot(data=PGA2023, x='%_Driv_Acc', y='Avg Score', color='purple', label='2023')\n",
    "sns.scatterplot(data=PGA2022, x=PGA2022['%_Driv_Acc']/100, y='Avg Score', color='red', label='2022')\n",
    "\n",
    "\n",
    "plt.title('Driving Accuracy vs Average Score')\n",
    "plt.legend(title='Year')\n",
    "plt.xlabel('Driving Accuracy')\n",
    "plt.show()\n",
    "\n",
    "thecorr241 = PGA2024['%_Driv_Acc'].corr(PGA2024['Avg Score'])\n",
    "thecorr231 = PGA2023['%_Driv_Acc'].corr(PGA2023['Avg Score'])\n",
    "thecorr221 = (PGA2022['%_Driv_Acc']/100).corr(PGA2022['Avg Score'])\n",
    "\n",
    "mainCorr3 = (thecorr241 + thecorr231 + thecorr221) / 3\n",
    "print(mainCorr3)"
   ]
  },
  {
   "cell_type": "code",
   "execution_count": null,
   "id": "fab5560f-d847-4b01-89d6-66d3e552122b",
   "metadata": {},
   "outputs": [
    {
     "ename": "",
     "evalue": "",
     "output_type": "error",
     "traceback": [
      "\u001b[1;31mRunning cells with '/opt/homebrew/bin/python3' requires the ipykernel package.\n",
      "\u001b[1;31mRun the following command to install 'ipykernel' into the Python environment. \n",
      "\u001b[1;31mCommand: '/opt/homebrew/bin/python3 -m pip install ipykernel -U --user --force-reinstall'"
     ]
    }
   ],
   "source": [
    "#Create a plot that shows the player driving distance vs their average score for all golfers in the PGA over different years (2022-2024)\n",
    "\n",
    "plt.figure(figsize=(10,6))\n",
    "\n",
    "sns.scatterplot(data=PGA2024, x='AVG_Driv', y='Avg Score', color='blue', label='2024')\n",
    "sns.scatterplot(data=PGA2023, x='AVG_Driv', y='Avg Score', color='purple', label='2023')\n",
    "sns.scatterplot(data=PGA2022, x='AVG_Driv', y='Avg Score', color='red', label='2022')\n",
    "\n",
    "\n",
    "plt.title('Driving Distance vs Average Score')\n",
    "plt.legend(title='Year')\n",
    "plt.xlabel('Distance (Yards)')\n",
    "plt.show()\n",
    "\n",
    "thecorr244 = PGA2024['AVG_Driv'].corr(PGA2024['Avg Score'])\n",
    "thecorr233 = PGA2023['AVG_Driv'].corr(PGA2023['Avg Score'])\n",
    "thecorr222 = PGA2022['AVG_Driv'].corr(PGA2022['Avg Score'])\n",
    "\n",
    "mainCorr2 = (thecorr244 + thecorr233 + thecorr222) / 3\n",
    "print(mainCorr2)"
   ]
  }
 ],
 "metadata": {
  "kernelspec": {
   "display_name": "Python 3 (ipykernel)",
   "language": "python",
   "name": "python3"
  },
  "language_info": {
   "codemirror_mode": {
    "name": "ipython",
    "version": 3
   },
   "file_extension": ".py",
   "mimetype": "text/x-python",
   "name": "python",
   "nbconvert_exporter": "python",
   "pygments_lexer": "ipython3",
   "version": "3.12.6"
  }
 },
 "nbformat": 4,
 "nbformat_minor": 5
}
