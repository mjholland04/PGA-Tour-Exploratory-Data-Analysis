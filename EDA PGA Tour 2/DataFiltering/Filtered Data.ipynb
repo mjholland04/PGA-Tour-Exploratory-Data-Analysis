{
 "cells": [
  {
   "cell_type": "markdown",
   "id": "8b2e0252",
   "metadata": {},
   "source": [
    "# Filtered Data.ipynb\n",
    "\n",
    "This file is used for our data cleaning and preprocessing. It reads in all of our csv files for 2022, 2023, and 2024. We merged all files for each year into year-based dataframes. We also created PGA234.csv, a main dataset with important variables merged from all 3 years. "
   ]
  },
  {
   "cell_type": "code",
   "execution_count": 1,
   "id": "70336379-bcb7-4b37-a614-8481ae7d610e",
   "metadata": {},
   "outputs": [],
   "source": [
    "#Import necessary libraries\n",
    "import pandas as pd\n",
    "import matplotlib.pyplot as plt\n",
    "import seaborn as sns"
   ]
  },
  {
   "cell_type": "code",
   "execution_count": 2,
   "id": "d8b35a85-8fb9-4784-83bb-026e32636a4f",
   "metadata": {},
   "outputs": [],
   "source": [
    "#read all of the 2022 PGA data sets\n",
    "PGABirdiesTwoTwo = pd.read_csv('/home/jupyter-msaxby/PGA LPGA/DATAFILTERING/22PGABirdieAverage.csv') \n",
    "PGADrivingTwoTwo = pd.read_csv('/home/jupyter-msaxby/PGA LPGA/DATAFILTERING/22PGADrivingDistance.csv')\n",
    "PGAScoringAverageTwoTwo = pd.read_csv('/home/jupyter-msaxby/PGA LPGA/DATAFILTERING/22PGAScoringAverage.csv')\n",
    "PGASgTotalTwoTwo = pd.read_csv('/home/jupyter-msaxby/PGA LPGA/DATAFILTERING/22PGASgTotal.csv')\n",
    "\n",
    "PGAGreenApproachTwoTwo= pd.read_csv('/home/jupyter-msaxby/PGA LPGA/DATAFILTERING/22PGAApproachTheGreen.csv')\n",
    "PGAGreensInRegTwoTwo = pd.read_csv('/home/jupyter-msaxby/PGA LPGA/DATAFILTERING/22PGAGreensinRegulationPercentage.csv')\n",
    "PGAPuttingTwoTwo = pd.read_csv('/home/jupyter-msaxby/PGA LPGA/DATAFILTERING/22PGASgPutting.csv')\n",
    "PGAScramblingTwoTwo = pd.read_csv('/home/jupyter-msaxby/PGA LPGA/DATAFILTERING/22PGAScrambling.csv')\n",
    "PGADrivingAccuracyTwoTwo = pd.read_csv('/home/jupyter-msaxby/PGA LPGA/DATAFILTERING/22PGADrivingA.csv')\n",
    "\n",
    "#filter all of the 2022 data sets to drop unnecessary columns\n",
    "PGABirdiesTwoTwoFilt = PGABirdiesTwoTwo.drop(columns=['RANK','MOVEMENT',\"PLAYER_ID\",\"TOTAL ROUNDS\"])\n",
    "PGADrivingTwoTwoFilt = PGADrivingTwoTwo.drop(columns=['RANK','MOVEMENT',\"PLAYER_ID\"])\n",
    "PGAScoringAverageTwoTwoFilt = PGAScoringAverageTwoTwo.drop(columns=['MOVEMENT',\"PLAYER_ID\",\"TOTAL ROUNDS\"])\n",
    "PGASgTotalTwoTwoFilt = PGASgTotalTwoTwo.drop(columns=['RANK','MOVEMENT',\"PLAYER_ID\"])\n",
    "\n",
    "PGAGreenApproachTwoTwoFilt = PGAGreenApproachTwoTwo.drop(columns=['RANK','MOVEMENT',\"PLAYER_ID\"])\n",
    "PGAGreensInRegTwoTwoFilt = PGAGreensInRegTwoTwo.drop(columns=['RANK','MOVEMENT',\"PLAYER_ID\"])\n",
    "PGAPuttingTwoTwoFilt = PGAPuttingTwoTwo.drop(columns=['RANK','MOVEMENT',\"PLAYER_ID\"])\n",
    "PGAScramblingTwoTwoFilt = PGAScramblingTwoTwo.drop(columns=['RANK','MOVEMENT',\"PLAYER_ID\"])\n",
    "PGADrivingAccuracyTwoTwoFilt = PGADrivingAccuracyTwoTwo.drop(columns=['RANK','MOVEMENT',\"PLAYER_ID\"])"
   ]
  },
  {
   "cell_type": "code",
   "execution_count": 3,
   "id": "9695ffdd-9705-44ab-a987-3190e46c43d4",
   "metadata": {},
   "outputs": [],
   "source": [
    "#read all of the 2023 PGA data sets\n",
    "PGABirdiesTwoThr = pd.read_csv('/home/jupyter-msaxby/PGA LPGA/DATAFILTERING/23PGABirdieAverage.csv') \n",
    "PGADrivingTwoThr = pd.read_csv('/home/jupyter-msaxby/PGA LPGA/DATAFILTERING/23PGADrivingDistance.csv')\n",
    "PGAScoringAverageTwoThr = pd.read_csv('/home/jupyter-msaxby/PGA LPGA/DATAFILTERING/23PGAScoringAverage.csv')\n",
    "PGASgTotalTwoThr = pd.read_csv('/home/jupyter-msaxby/PGA LPGA/DATAFILTERING/23PGASgTotal.csv')\n",
    "\n",
    "PGAGreenApproachTwoThr= pd.read_csv('/home/jupyter-msaxby/PGA LPGA/DATAFILTERING/23PGAApproachTheGreen.csv')\n",
    "PGAGreensInRegTwoThr = pd.read_csv('/home/jupyter-msaxby/PGA LPGA/DATAFILTERING/23PGAGreensInRegulationPercentage.csv')\n",
    "PGAPuttingTwoThr = pd.read_csv('/home/jupyter-msaxby/PGA LPGA/DATAFILTERING/23PGASgPutting.csv')\n",
    "PGAScramblingTwoThr = pd.read_csv('/home/jupyter-msaxby/PGA LPGA/DATAFILTERING/23PGAScrambling.csv')\n",
    "PGADrivingAccuracyTwoThr = pd.read_csv('/home/jupyter-msaxby/PGA LPGA/DATAFILTERING/23PGADrivingA.csv')\n",
    "\n",
    "#filter all of the 2022 data sets to drop unnecessary columns\n",
    "PGABirdiesTwoThrFilt = PGABirdiesTwoThr.drop(columns=['RANK','MOVEMENT',\"PLAYER_ID\",\"TOTAL ROUNDS\"])\n",
    "PGADrivingTwoThrFilt = PGADrivingTwoThr.drop(columns=['RANK','MOVEMENT',\"PLAYER_ID\"])\n",
    "PGAScoringAverageTwoThrFilt = PGAScoringAverageTwoThr.drop(columns=['MOVEMENT',\"PLAYER_ID\",\"TOTAL ROUNDS\"])\n",
    "PGASgTotalTwoThrFilt = PGASgTotalTwoThr.drop(columns=['RANK','MOVEMENT',\"PLAYER_ID\"])\n",
    "\n",
    "PGAGreenApproachTwoThrFilt = PGAGreenApproachTwoThr.drop(columns=['RANK','MOVEMENT',\"PLAYER_ID\"])\n",
    "PGAGreensInRegTwoThrFilt = PGAGreensInRegTwoThr.drop(columns=['RANK','MOVEMENT',\"PLAYER_ID\"])\n",
    "PGAPuttingTwoThrFilt = PGAPuttingTwoThr.drop(columns=['RANK','MOVEMENT',\"PLAYER_ID\"])\n",
    "PGAScramblingTwoThrFilt = PGAScramblingTwoThr.drop(columns=['RANK','MOVEMENT',\"PLAYER_ID\"])\n",
    "PGADrivingAccuracyTwoThrFilt = PGADrivingAccuracyTwoThr.drop(columns=['RANK','MOVEMENT',\"PLAYER_ID\"])"
   ]
  },
  {
   "cell_type": "code",
   "execution_count": 4,
   "id": "2d41ba05-93c3-4e24-b256-7e01f08d7260",
   "metadata": {},
   "outputs": [],
   "source": [
    "#read all of the 2024 PGA data sets\n",
    "PGABirdiesTwoFour = pd.read_csv('/home/jupyter-msaxby/PGA LPGA/DATAFILTERING/24PgaBirdieAverage.csv')\n",
    "PGADrivingTwoFour = pd.read_csv('/home/jupyter-msaxby/PGA LPGA/DATAFILTERING/24PgaDriving.csv')\n",
    "PGAScoringAverageTwoFour = pd.read_csv('/home/jupyter-msaxby/PGA LPGA/DATAFILTERING/24PgaScoringAverage.csv')\n",
    "PGASgTotalTwoFour = pd.read_csv('/home/jupyter-msaxby/PGA LPGA/DATAFILTERING/24PgaSgTotal.csv')\n",
    "\n",
    "PGAGreenApproachTwoFour = pd.read_csv('/home/jupyter-msaxby/PGA LPGA/DATAFILTERING/24PgaAppGreeen.csv')\n",
    "PGAGreensInRegTwoFour = pd.read_csv('/home/jupyter-msaxby/PGA LPGA/DATAFILTERING/24PgaGreensRegulationPTG.csv')\n",
    "PGAPuttingTwoFour = pd.read_csv('/home/jupyter-msaxby/PGA LPGA/DATAFILTERING/24PgaPutting.csv')\n",
    "PGAScramblingTwoFour = pd.read_csv('/home/jupyter-msaxby/PGA LPGA/DATAFILTERING/24PgaScrambling.csv')\n",
    "PGADrivingAccuracyTwoFour = pd.read_csv('/home/jupyter-msaxby/PGA LPGA/DATAFILTERING/24PGADrivingA.csv')\n",
    "\n",
    "\n",
    "\n",
    "#filter all of the 2024 data sets to drop unnecessary columns\n",
    "PGABirdiesTwoFourFilt = PGABirdiesTwoFour.drop(columns=['RANK','MOVEMENT',\"PLAYER_ID\",\"TOTAL ROUNDS\"])\n",
    "PGADrivingTwoFourFilt = PGADrivingTwoFour.drop(columns=['RANK','MOVEMENT',\"PLAYER_ID\"])\n",
    "PGAScoringAverageTwoFourFilt = PGAScoringAverageTwoFour.drop(columns=['MOVEMENT',\"PLAYER_ID\",\"TOTAL ROUNDS\"])\n",
    "PGASgTotalTwoFourFilt = PGASgTotalTwoFour.drop(columns=['RANK','MOVEMENT',\"PLAYER_ID\"])\n",
    "\n",
    "PGAGreenApproachTwoFourFilt = PGAGreenApproachTwoFour.drop(columns=['RANK','MOVEMENT',\"PLAYER_ID\"])\n",
    "PGAGreensInRegTwoFourFilt = PGAGreensInRegTwoFour.drop(columns=['RANK','MOVEMENT',\"PLAYER_ID\"])\n",
    "PGAPuttingTwoFourFilt = PGAPuttingTwoFour.drop(columns=['RANK','MOVEMENT',\"PLAYER_ID\"])\n",
    "PGAScramblingTwoFourFilt = PGAScramblingTwoFour.drop(columns=['RANK','MOVEMENT',\"PLAYER_ID\"])\n",
    "PGADrivingAccuracyTwoFourFilt = PGADrivingAccuracyTwoFour.drop(columns=['RANK','MOVEMENT',\"PLAYER_ID\"])"
   ]
  },
  {
   "cell_type": "code",
   "execution_count": 5,
   "id": "87ceba3a-5c90-4ab4-be6b-35fe70fecce5",
   "metadata": {},
   "outputs": [
    {
     "name": "stdout",
     "output_type": "stream",
     "text": [
      "Index(['AVG_Birdies', '# OF BIRDIES', 'AVG_Driv', 'TOTAL DISTANCE',\n",
      "       'TOTAL DRIVES', 'RANK', 'Avg Score', 'TOTAL STROKES',\n",
      "       'TOTAL ADJUSTMENT', 'AVG_SG:Tot', 'TOTAL SG:T', 'TOTAL SG:T2G',\n",
      "       'TOTAL SG:P', 'MEASURED ROUNDS', 'AVG_SGAppr', 'TOTAL SG:APP',\n",
      "       'MEASURED ROUNDS_SGAppr', '%_GIReg', 'GREENS HIT', '# HOLES',\n",
      "       'RELATIVE/PAR', 'AVG_PUT', 'TOTAL SG:PUTTING', 'MEASURED ROUNDS_PUT',\n",
      "       '%_Scram', 'PAR OR BETTER', 'MISSED GIR', '%_Driv_Acc', 'FAIRWAYS HIT',\n",
      "       'POSSIBLE FAIRWAYS', 'Overall_Acc', 'AVG_SG_Driv'],\n",
      "      dtype='object')\n"
     ]
    }
   ],
   "source": [
    "#combine the 2024 PGA data sets into PGA2024 and set index to player name\n",
    "PGA2024 = PGABirdiesTwoFourFilt.merge(PGADrivingTwoFourFilt, on='PLAYER', suffixes=('_Birdies', '_Driv'))\n",
    "PGA2024 = PGA2024.merge(PGAScoringAverageTwoFourFilt, on='PLAYER', suffixes=('', '_ScorAvg'))\n",
    "PGA2024 = PGA2024.merge(PGASgTotalTwoFourFilt, on='PLAYER', suffixes=('', '_SG:Tot'))\n",
    "PGA2024 = PGA2024.merge(PGAGreenApproachTwoFourFilt, on='PLAYER', suffixes=('', '_SGAppr'))\n",
    "PGA2024 = PGA2024.merge(PGAGreensInRegTwoFourFilt, on='PLAYER', suffixes=('', '_GIReg'))\n",
    "PGA2024 = PGA2024.merge(PGAPuttingTwoFourFilt, on='PLAYER', suffixes=('', '_PUT'))\n",
    "PGA2024 = PGA2024.merge(PGAScramblingTwoFourFilt, on='PLAYER', suffixes=('', '_Scram'))\n",
    "PGA2024 = PGA2024.merge(PGADrivingAccuracyTwoFourFilt, on='PLAYER', suffixes=('', '_Driv_Acc'))\n",
    "\n",
    "#Renaming Columns\n",
    "PGA2024.rename(columns={'AVG': 'Avg Score', '%': '%_GIReg'}, inplace=True)\n",
    "\n",
    "#set index to players names\n",
    "PGA2024.set_index('PLAYER',inplace=True)\n",
    "\n",
    "# Remove the percentage signs and convert columns to float\n",
    "PGA2024['%_GIReg'] = PGA2024['%_GIReg'].str.rstrip('%').astype('float') / 100\n",
    "PGA2024['%_Driv_Acc'] = PGA2024['%_Driv_Acc'].str.rstrip('%').astype('float') / 100\n",
    "\n",
    "# Create a new column called 'Overall_Acc' as the product of fairways hit and greens in regulation\n",
    "PGA2024['Overall_Acc'] = PGA2024['%_GIReg'] * PGA2024['%_Driv_Acc']\n",
    "PGA2024['AVG_SG_Driv'] = PGA2024['TOTAL SG:T2G'] / PGA2024['MEASURED ROUNDS']\n",
    "\n",
    "print(PGA2024.columns)\n",
    "PGA2024.to_csv('PGA2024.csv',index=True)"
   ]
  },
  {
   "cell_type": "code",
   "execution_count": 6,
   "id": "7443985c-fbe8-4acc-a263-67514763a395",
   "metadata": {},
   "outputs": [
    {
     "name": "stdout",
     "output_type": "stream",
     "text": [
      "Index(['AVG_Birdies', '# OF BIRDIES', 'AVG_Driv', 'TOTAL DISTANCE',\n",
      "       'TOTAL DRIVES', 'RANK', 'Avg Score', 'TOTAL STROKES',\n",
      "       'TOTAL ADJUSTMENT', 'AVG_SG:Tot', 'TOTAL SG:T', 'TOTAL SG:T2G',\n",
      "       'TOTAL SG:P', 'MEASURED ROUNDS', 'AVG_SGAppr', 'TOTAL SG:APP',\n",
      "       'MEASURED ROUNDS_SGAppr', '%_GIReg', 'GREENS HIT', '# HOLES',\n",
      "       'RELATIVE/PAR', 'AVG_PUT', 'TOTAL SG:PUTTING', 'MEASURED ROUNDS_PUT',\n",
      "       '%_Scram', 'PAR OR BETTER', 'MISSED GIR', '%_Driv_Acc', 'FAIRWAYS HIT',\n",
      "       'POSSIBLE FAIRWAYS', 'Overall_Acc', 'AVG_SG_Driv'],\n",
      "      dtype='object')\n"
     ]
    }
   ],
   "source": [
    "#combine the 2023 PGA data sets into PGA2023 and set index to player name\n",
    "PGA2023 = PGABirdiesTwoThrFilt.merge(PGADrivingTwoThrFilt, on='PLAYER', suffixes=('_Birdies', '_Driv'))\n",
    "PGA2023 = PGA2023.merge(PGAScoringAverageTwoThrFilt, on='PLAYER', suffixes=('', '_ScorAvg'))\n",
    "PGA2023 = PGA2023.merge(PGASgTotalTwoThrFilt, on='PLAYER', suffixes=('', '_SG:Tot'))\n",
    "PGA2023 = PGA2023.merge(PGAGreenApproachTwoThrFilt, on='PLAYER', suffixes=('', '_SGAppr'))\n",
    "PGA2023 = PGA2023.merge(PGAGreensInRegTwoThrFilt, on='PLAYER', suffixes=('', '_GIReg'))\n",
    "PGA2023 = PGA2023.merge(PGAPuttingTwoThrFilt, on='PLAYER', suffixes=('', '_PUT'))\n",
    "PGA2023 = PGA2023.merge(PGAScramblingTwoThrFilt, on='PLAYER', suffixes=('', '_Scram'))\n",
    "PGA2023 = PGA2023.merge(PGADrivingAccuracyTwoThrFilt, on='PLAYER', suffixes=('', '_Driv_Acc'))\n",
    "\n",
    "#Renaming Columns\n",
    "PGA2023.rename(columns={'AVG': 'Avg Score', '%': '%_GIReg'}, inplace=True)\n",
    "\n",
    "#set index to players names\n",
    "PGA2023.set_index('PLAYER',inplace=True)\n",
    "\n",
    "# Remove the percentage signs and convert columns to float\n",
    "PGA2023['%_GIReg'] = PGA2023['%_GIReg'].str.rstrip('%').astype('float') / 100\n",
    "PGA2023['%_Driv_Acc'] = PGA2023['%_Driv_Acc'].str.rstrip('%').astype('float') / 100\n",
    "\n",
    "# Create a new column called 'Overall_Acc' as the product of fairways hit and greens in regulation\n",
    "PGA2023['Overall_Acc'] = PGA2023['%_GIReg'] * PGA2023['%_Driv_Acc']\n",
    "PGA2023['AVG_SG_Driv'] = PGA2023['TOTAL SG:T2G'] / PGA2023['MEASURED ROUNDS']\n",
    "\n",
    "print(PGA2023.columns)\n",
    "PGA2023.to_csv('PGA2023.csv',index=True)"
   ]
  },
  {
   "cell_type": "code",
   "execution_count": 7,
   "id": "a1dc2d14-6ea1-4339-be9a-a09d2e75600a",
   "metadata": {},
   "outputs": [
    {
     "name": "stdout",
     "output_type": "stream",
     "text": [
      "Index(['AVG_Birdies', '# OF BIRDIES', 'AVG_Driv', 'TOTAL DISTANCE',\n",
      "       'TOTAL DRIVES', 'RANK', 'Avg Score', 'TOTAL STROKES',\n",
      "       'TOTAL ADJUSTMENT', 'AVG_SG:Tot', 'TOTAL SG:T', 'TOTAL SG:T2G',\n",
      "       'TOTAL SG:P', 'MEASURED ROUNDS', 'AVG_SGAppr', 'TOTAL SG:APP',\n",
      "       'MEASURED ROUNDS_SGAppr', '%_GIReg', 'GREENS HIT', '# HOLES',\n",
      "       'RELATIVE/PAR', 'AVG_PUT', 'TOTAL SG:PUTTING', 'MEASURED ROUNDS_PUT',\n",
      "       '%_Scram', 'PAR OR BETTER', 'MISSED GIR', '%_Driv_Acc', 'FAIRWAYS HIT',\n",
      "       'POSSIBLE FAIRWAYS', 'Overall_Acc', 'AVG_SG_Driv'],\n",
      "      dtype='object')\n"
     ]
    }
   ],
   "source": [
    "#combine the 2022 PGA data sets into PGA2022 and set index to player name\n",
    "PGA2022 = PGABirdiesTwoFourFilt.merge(PGADrivingTwoFourFilt, on='PLAYER', suffixes=('_Birdies', '_Driv'))\n",
    "PGA2022 = PGA2022.merge(PGAScoringAverageTwoTwoFilt, on='PLAYER', suffixes=('', '_ScorAvg'))\n",
    "PGA2022 = PGA2022.merge(PGASgTotalTwoTwoFilt, on='PLAYER', suffixes=('', '_SG:Tot'))\n",
    "PGA2022 = PGA2022.merge(PGAGreenApproachTwoTwoFilt, on='PLAYER', suffixes=('', '_SGAppr'))\n",
    "PGA2022 = PGA2022.merge(PGAGreensInRegTwoTwoFilt, on='PLAYER', suffixes=('', '_GIReg'))\n",
    "PGA2022 = PGA2022.merge(PGAPuttingTwoTwoFilt, on='PLAYER', suffixes=('', '_PUT'))\n",
    "PGA2022 = PGA2022.merge(PGAScramblingTwoTwoFilt, on='PLAYER', suffixes=('', '_Scram'))\n",
    "PGA2022 = PGA2022.merge(PGADrivingAccuracyTwoTwoFilt, on='PLAYER', suffixes=('', '_Driv_Acc'))\n",
    "\n",
    "#Renaming Columns\n",
    "PGA2022.rename(columns={'AVG': 'Avg Score', '%': '%_GIReg'}, inplace=True)\n",
    "\n",
    "#set index to players names\n",
    "PGA2022.set_index('PLAYER',inplace=True)\n",
    "\n",
    "\n",
    "# Create a new column called 'Overall_Acc' as the product of fairways hit and greens in regulation\n",
    "PGA2022['Overall_Acc'] = (PGA2022['%_GIReg'] * PGA2022['%_Driv_Acc'])/10000\n",
    "PGA2022['AVG_SG_Driv'] = PGA2022['TOTAL SG:T2G'] / PGA2022['MEASURED ROUNDS']\n",
    "\n",
    "print(PGA2022.columns)\n",
    "PGA2022.to_csv('PGA2022.csv',index=True)"
   ]
  },
  {
   "cell_type": "code",
   "execution_count": 8,
   "id": "02de7e66-9f56-4ca1-8341-9ea7f1e1174f",
   "metadata": {},
   "outputs": [
    {
     "name": "stdout",
     "output_type": "stream",
     "text": [
      "(98, 96)\n"
     ]
    }
   ],
   "source": [
    "#combine 22 23 24\n",
    "\n",
    "PGA234 = PGA2022.merge(PGA2023, on='PLAYER',suffixes=('_22','_23'))\n",
    "PGA234 = PGA234.merge(PGA2024, on='PLAYER',suffixes=('','_24'))\n",
    "print(PGA234.shape)\n",
    "PGA234.to_csv('PGA234.csv',index=True)"
   ]
  }
 ],
 "metadata": {
  "kernelspec": {
   "display_name": "Python 3 (ipykernel)",
   "language": "python",
   "name": "python3"
  },
  "language_info": {
   "codemirror_mode": {
    "name": "ipython",
    "version": 3
   },
   "file_extension": ".py",
   "mimetype": "text/x-python",
   "name": "python",
   "nbconvert_exporter": "python",
   "pygments_lexer": "ipython3",
   "version": "3.9.7"
  }
 },
 "nbformat": 4,
 "nbformat_minor": 5
}
